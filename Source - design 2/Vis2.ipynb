{
  "nbformat": 4,
  "nbformat_minor": 0,
  "metadata": {
    "colab": {
      "provenance": []
    },
    "kernelspec": {
      "name": "python3",
      "display_name": "Python 3"
    },
    "language_info": {
      "name": "python"
    }
  },
  "cells": [
    {
      "cell_type": "code",
      "execution_count": 7,
      "metadata": {
        "colab": {
          "base_uri": "https://localhost:8080/"
        },
        "id": "-V6qHFdYsA-C",
        "outputId": "143b146a-1c81-444c-9573-fd2102e0b56d"
      },
      "outputs": [
        {
          "output_type": "stream",
          "name": "stdout",
          "text": [
            "Looking in indexes: https://pypi.org/simple, https://us-python.pkg.dev/colab-wheels/public/simple/\n",
            "Requirement already satisfied: altair in /usr/local/lib/python3.8/dist-packages (4.2.2)\n",
            "Requirement already satisfied: jinja2 in /usr/local/lib/python3.8/dist-packages (from altair) (2.11.3)\n",
            "Requirement already satisfied: numpy in /usr/local/lib/python3.8/dist-packages (from altair) (1.22.4)\n",
            "Requirement already satisfied: jsonschema>=3.0 in /usr/local/lib/python3.8/dist-packages (from altair) (4.3.3)\n",
            "Requirement already satisfied: pandas>=0.18 in /usr/local/lib/python3.8/dist-packages (from altair) (1.3.5)\n",
            "Requirement already satisfied: entrypoints in /usr/local/lib/python3.8/dist-packages (from altair) (0.4)\n",
            "Requirement already satisfied: toolz in /usr/local/lib/python3.8/dist-packages (from altair) (0.12.0)\n",
            "Requirement already satisfied: importlib-resources>=1.4.0 in /usr/local/lib/python3.8/dist-packages (from jsonschema>=3.0->altair) (5.12.0)\n",
            "Requirement already satisfied: pyrsistent!=0.17.0,!=0.17.1,!=0.17.2,>=0.14.0 in /usr/local/lib/python3.8/dist-packages (from jsonschema>=3.0->altair) (0.19.3)\n",
            "Requirement already satisfied: attrs>=17.4.0 in /usr/local/lib/python3.8/dist-packages (from jsonschema>=3.0->altair) (22.2.0)\n",
            "Requirement already satisfied: python-dateutil>=2.7.3 in /usr/local/lib/python3.8/dist-packages (from pandas>=0.18->altair) (2.8.2)\n",
            "Requirement already satisfied: pytz>=2017.3 in /usr/local/lib/python3.8/dist-packages (from pandas>=0.18->altair) (2022.7.1)\n",
            "Requirement already satisfied: MarkupSafe>=0.23 in /usr/local/lib/python3.8/dist-packages (from jinja2->altair) (2.0.1)\n",
            "Requirement already satisfied: zipp>=3.1.0 in /usr/local/lib/python3.8/dist-packages (from importlib-resources>=1.4.0->jsonschema>=3.0->altair) (3.14.0)\n",
            "Requirement already satisfied: six>=1.5 in /usr/local/lib/python3.8/dist-packages (from python-dateutil>=2.7.3->pandas>=0.18->altair) (1.15.0)\n"
          ]
        }
      ],
      "source": [
        "!pip install altair"
      ]
    },
    {
      "cell_type": "code",
      "source": [
        "import altair as alt\n",
        "import pandas as pd\n"
      ],
      "metadata": {
        "id": "ewFjZDkqsCxA"
      },
      "execution_count": 12,
      "outputs": []
    },
    {
      "cell_type": "code",
      "source": [
        "alt.data_transformers.enable('default')\n",
        "\n",
        "airportsData = \"airports.csv\"\n",
        "\n",
        "airports = pd.read_csv(airportsData, header = 0)"
      ],
      "metadata": {
        "id": "Ryr-F_NksJ4y"
      },
      "execution_count": 13,
      "outputs": []
    },
    {
      "cell_type": "code",
      "source": [
        "airportsPerCountry = airports[\"country\"].value_counts().rename_axis('countries').reset_index(name='count')\n",
        "airportsPerCountry['countries'] = airportsPerCountry['countries'].replace('United States', 'United States of America')\n",
        "\n",
        "airportsPerCountry = airportsPerCountry.iloc[:100]"
      ],
      "metadata": {
        "id": "qauUW0Y6scd9"
      },
      "execution_count": 14,
      "outputs": []
    },
    {
      "cell_type": "code",
      "source": [
        "box = pd.DataFrame({'x1': [0], 'x2': [1600], 'y1': [0], 'y2': [900]})\n",
        "\n",
        "bg = alt.Chart(box).mark_rect(fill='#aadaff', stroke='#aadaff').encode(\n",
        "    alt.X('x1', scale=alt.Scale(domain=(0, 1600)), axis = None),\n",
        "    alt.Y('y1', scale=alt.Scale(domain=(0, 900)), axis = None),\n",
        "    x2='x2',\n",
        "    y2='y2'\n",
        ")\n",
        "\n",
        "url = \"https://raw.githubusercontent.com/deldersveld/topojson/master/world-countries-sans-antarctica.json\"\n",
        "\n",
        "data_map = alt.topo_feature(url, 'countries1')\n",
        "\n",
        "baseMap = alt.Chart(data_map).mark_geoshape(stroke='white',fill='grey').encode(alt.Tooltip('properties.name:N', title='Country')).properties(\n",
        "    width=1500,\n",
        "    height=900,\n",
        "    title='Top 100 Countries Based on Number of Airports'\n",
        ")\n",
        "\n",
        "topMap = alt.Chart(data_map).mark_geoshape(stroke='white').encode(\n",
        "    tooltip=[alt.Tooltip('properties.name:N', title='Country'), \n",
        "             alt.Tooltip('count:Q', title='Number of Airports')],\n",
        "    color=alt.Color('count:Q', scale=alt.Scale(scheme='greens'),  title = [\"Number of Airports\"]),\n",
        ").transform_lookup(\n",
        "    lookup='properties.name',\n",
        "    from_=alt.LookupData(airportsPerCountry, 'countries', ['count'])\n",
        ").properties(\n",
        "    width=1000,\n",
        "    height=600,\n",
        ")\n",
        "\n",
        "whole = bg+baseMap+topMap\n",
        "\n",
        "whole.project('equirectangular').configure_title(fontSize = 25).configure_legend(titleFontSize = 18, gradientThickness = 30, gradientLength = 400, labelFontSize = 16, orient = 'bottom-left', titlePadding = 10)\n"
      ],
      "metadata": {
        "colab": {
          "base_uri": "https://localhost:8080/",
          "height": 982
        },
        "id": "gnj8LUOZsQjr",
        "outputId": "e69364e7-2d47-4d72-d582-681bf1edd9d0"
      },
      "execution_count": 15,
      "outputs": [
        {
          "output_type": "execute_result",
          "data": {
            "text/html": [
              "\n",
              "<div id=\"altair-viz-04d1cda661eb42e39f08235338af265b\"></div>\n",
              "<script type=\"text/javascript\">\n",
              "  var VEGA_DEBUG = (typeof VEGA_DEBUG == \"undefined\") ? {} : VEGA_DEBUG;\n",
              "  (function(spec, embedOpt){\n",
              "    let outputDiv = document.currentScript.previousElementSibling;\n",
              "    if (outputDiv.id !== \"altair-viz-04d1cda661eb42e39f08235338af265b\") {\n",
              "      outputDiv = document.getElementById(\"altair-viz-04d1cda661eb42e39f08235338af265b\");\n",
              "    }\n",
              "    const paths = {\n",
              "      \"vega\": \"https://cdn.jsdelivr.net/npm//vega@5?noext\",\n",
              "      \"vega-lib\": \"https://cdn.jsdelivr.net/npm//vega-lib?noext\",\n",
              "      \"vega-lite\": \"https://cdn.jsdelivr.net/npm//vega-lite@4.17.0?noext\",\n",
              "      \"vega-embed\": \"https://cdn.jsdelivr.net/npm//vega-embed@6?noext\",\n",
              "    };\n",
              "\n",
              "    function maybeLoadScript(lib, version) {\n",
              "      var key = `${lib.replace(\"-\", \"\")}_version`;\n",
              "      return (VEGA_DEBUG[key] == version) ?\n",
              "        Promise.resolve(paths[lib]) :\n",
              "        new Promise(function(resolve, reject) {\n",
              "          var s = document.createElement('script');\n",
              "          document.getElementsByTagName(\"head\")[0].appendChild(s);\n",
              "          s.async = true;\n",
              "          s.onload = () => {\n",
              "            VEGA_DEBUG[key] = version;\n",
              "            return resolve(paths[lib]);\n",
              "          };\n",
              "          s.onerror = () => reject(`Error loading script: ${paths[lib]}`);\n",
              "          s.src = paths[lib];\n",
              "        });\n",
              "    }\n",
              "\n",
              "    function showError(err) {\n",
              "      outputDiv.innerHTML = `<div class=\"error\" style=\"color:red;\">${err}</div>`;\n",
              "      throw err;\n",
              "    }\n",
              "\n",
              "    function displayChart(vegaEmbed) {\n",
              "      vegaEmbed(outputDiv, spec, embedOpt)\n",
              "        .catch(err => showError(`Javascript Error: ${err.message}<br>This usually means there's a typo in your chart specification. See the javascript console for the full traceback.`));\n",
              "    }\n",
              "\n",
              "    if(typeof define === \"function\" && define.amd) {\n",
              "      requirejs.config({paths});\n",
              "      require([\"vega-embed\"], displayChart, err => showError(`Error loading script: ${err.message}`));\n",
              "    } else {\n",
              "      maybeLoadScript(\"vega\", \"5\")\n",
              "        .then(() => maybeLoadScript(\"vega-lite\", \"4.17.0\"))\n",
              "        .then(() => maybeLoadScript(\"vega-embed\", \"6\"))\n",
              "        .catch(showError)\n",
              "        .then(() => displayChart(vegaEmbed));\n",
              "    }\n",
              "  })({\"config\": {\"view\": {\"continuousWidth\": 400, \"continuousHeight\": 300}, \"legend\": {\"gradientLength\": 400, \"gradientThickness\": 30, \"labelFontSize\": 16, \"orient\": \"bottom-left\", \"titleFontSize\": 18, \"titlePadding\": 10}, \"title\": {\"fontSize\": 25}}, \"layer\": [{\"data\": {\"name\": \"data-4e753116ba3b7eae618113ae53f690e0\"}, \"mark\": {\"type\": \"rect\", \"fill\": \"#aadaff\", \"stroke\": \"#aadaff\"}, \"encoding\": {\"x\": {\"axis\": null, \"field\": \"x1\", \"scale\": {\"domain\": [0, 1600]}, \"type\": \"quantitative\"}, \"x2\": {\"field\": \"x2\"}, \"y\": {\"axis\": null, \"field\": \"y1\", \"scale\": {\"domain\": [0, 900]}, \"type\": \"quantitative\"}, \"y2\": {\"field\": \"y2\"}}}, {\"data\": {\"url\": \"https://raw.githubusercontent.com/deldersveld/topojson/master/world-countries-sans-antarctica.json\", \"format\": {\"feature\": \"countries1\", \"type\": \"topojson\"}}, \"mark\": {\"type\": \"geoshape\", \"fill\": \"grey\", \"stroke\": \"white\"}, \"encoding\": {\"tooltip\": {\"field\": \"properties.name\", \"title\": \"Country\", \"type\": \"nominal\"}}, \"height\": 900, \"title\": \"Top 100 Countries Based on Number of Airports\", \"width\": 1500}, {\"data\": {\"url\": \"https://raw.githubusercontent.com/deldersveld/topojson/master/world-countries-sans-antarctica.json\", \"format\": {\"feature\": \"countries1\", \"type\": \"topojson\"}}, \"mark\": {\"type\": \"geoshape\", \"stroke\": \"white\"}, \"encoding\": {\"color\": {\"field\": \"count\", \"scale\": {\"scheme\": \"greens\"}, \"title\": [\"Number of Airports\"], \"type\": \"quantitative\"}, \"tooltip\": [{\"field\": \"properties.name\", \"title\": \"Country\", \"type\": \"nominal\"}, {\"field\": \"count\", \"title\": \"Number of Airports\", \"type\": \"quantitative\"}]}, \"height\": 600, \"transform\": [{\"lookup\": \"properties.name\", \"from\": {\"data\": {\"name\": \"data-9e3596c87e05a4d2532278c9475512e8\"}, \"key\": \"countries\", \"fields\": [\"count\"]}}], \"width\": 1000}], \"projection\": {\"type\": \"equirectangular\"}, \"$schema\": \"https://vega.github.io/schema/vega-lite/v4.17.0.json\", \"datasets\": {\"data-4e753116ba3b7eae618113ae53f690e0\": [{\"x1\": 0, \"x2\": 1600, \"y1\": 0, \"y2\": 900}], \"data-9e3596c87e05a4d2532278c9475512e8\": [{\"countries\": \"United States of America\", \"count\": 1512}, {\"countries\": \"Canada\", \"count\": 430}, {\"countries\": \"Australia\", \"count\": 334}, {\"countries\": \"Russia\", \"count\": 264}, {\"countries\": \"Brazil\", \"count\": 264}, {\"countries\": \"Germany\", \"count\": 249}, {\"countries\": \"China\", \"count\": 241}, {\"countries\": \"France\", \"count\": 217}, {\"countries\": \"United Kingdom\", \"count\": 167}, {\"countries\": \"India\", \"count\": 148}, {\"countries\": \"Indonesia\", \"count\": 145}, {\"countries\": \"Japan\", \"count\": 123}, {\"countries\": \"South Africa\", \"count\": 99}, {\"countries\": \"Argentina\", \"count\": 96}, {\"countries\": \"Mexico\", \"count\": 84}, {\"countries\": \"Italy\", \"count\": 83}, {\"countries\": \"Iran\", \"count\": 82}, {\"countries\": \"Sweden\", \"count\": 77}, {\"countries\": \"Turkey\", \"count\": 76}, {\"countries\": \"Colombia\", \"count\": 75}, {\"countries\": \"Philippines\", \"count\": 71}, {\"countries\": \"Spain\", \"count\": 64}, {\"countries\": \"Norway\", \"count\": 63}, {\"countries\": \"New Zealand\", \"count\": 60}, {\"countries\": \"Venezuela\", \"count\": 57}, {\"countries\": \"Greenland\", \"count\": 56}, {\"countries\": \"Greece\", \"count\": 55}, {\"countries\": \"Pakistan\", \"count\": 54}, {\"countries\": \"Finland\", \"count\": 51}, {\"countries\": \"Thailand\", \"count\": 50}, {\"countries\": \"Chile\", \"count\": 46}, {\"countries\": \"Saudi Arabia\", \"count\": 45}, {\"countries\": \"French Polynesia\", \"count\": 44}, {\"countries\": \"Congo (Kinshasa)\", \"count\": 44}, {\"countries\": \"Algeria\", \"count\": 44}, {\"countries\": \"Peru\", \"count\": 43}, {\"countries\": \"Burma\", \"count\": 43}, {\"countries\": \"Madagascar\", \"count\": 43}, {\"countries\": \"Switzerland\", \"count\": 43}, {\"countries\": \"Poland\", \"count\": 41}, {\"countries\": \"Malaysia\", \"count\": 40}, {\"countries\": \"Ukraine\", \"count\": 39}, {\"countries\": \"Ecuador\", \"count\": 36}, {\"countries\": \"Papua New Guinea\", \"count\": 35}, {\"countries\": \"Kenya\", \"count\": 35}, {\"countries\": \"Portugal\", \"count\": 35}, {\"countries\": \"Bahamas\", \"count\": 34}, {\"countries\": \"Nepal\", \"count\": 34}, {\"countries\": \"Cuba\", \"count\": 32}, {\"countries\": \"Denmark\", \"count\": 31}, {\"countries\": \"Costa Rica\", \"count\": 31}, {\"countries\": \"Vanuatu\", \"count\": 29}, {\"countries\": \"Tanzania\", \"count\": 29}, {\"countries\": \"South Korea\", \"count\": 29}, {\"countries\": \"Ethiopia\", \"count\": 29}, {\"countries\": \"Nigeria\", \"count\": 28}, {\"countries\": \"Kazakhstan\", \"count\": 26}, {\"countries\": \"Netherlands\", \"count\": 26}, {\"countries\": \"Angola\", \"count\": 25}, {\"countries\": \"Taiwan\", \"count\": 25}, {\"countries\": \"Vietnam\", \"count\": 25}, {\"countries\": \"Belgium\", \"count\": 24}, {\"countries\": \"Czech Republic\", \"count\": 24}, {\"countries\": \"Solomon Islands\", \"count\": 24}, {\"countries\": \"Egypt\", \"count\": 24}, {\"countries\": \"Bolivia\", \"count\": 24}, {\"countries\": \"Suriname\", \"count\": 23}, {\"countries\": \"Afghanistan\", \"count\": 22}, {\"countries\": \"Morocco\", \"count\": 22}, {\"countries\": \"Iceland\", \"count\": 22}, {\"countries\": \"Romania\", \"count\": 20}, {\"countries\": \"Austria\", \"count\": 20}, {\"countries\": \"Fiji\", \"count\": 19}, {\"countries\": \"Mozambique\", \"count\": 19}, {\"countries\": \"Sudan\", \"count\": 18}, {\"countries\": \"Namibia\", \"count\": 18}, {\"countries\": \"Kiribati\", \"count\": 18}, {\"countries\": \"Libya\", \"count\": 18}, {\"countries\": \"Ireland\", \"count\": 17}, {\"countries\": \"Israel\", \"count\": 17}, {\"countries\": \"United Arab Emirates\", \"count\": 17}, {\"countries\": \"Hungary\", \"count\": 16}, {\"countries\": \"Zimbabwe\", \"count\": 16}, {\"countries\": \"Botswana\", \"count\": 16}, {\"countries\": \"Iraq\", \"count\": 16}, {\"countries\": \"Laos\", \"count\": 14}, {\"countries\": \"Croatia\", \"count\": 14}, {\"countries\": \"Dominican Republic\", \"count\": 14}, {\"countries\": \"Gabon\", \"count\": 13}, {\"countries\": \"Mongolia\", \"count\": 13}, {\"countries\": \"Bulgaria\", \"count\": 13}, {\"countries\": \"Uzbekistan\", \"count\": 13}, {\"countries\": \"Tunisia\", \"count\": 13}, {\"countries\": \"Nicaragua\", \"count\": 13}, {\"countries\": \"Panama\", \"count\": 13}, {\"countries\": \"Zambia\", \"count\": 13}, {\"countries\": \"Guyana\", \"count\": 13}, {\"countries\": \"Belarus\", \"count\": 12}, {\"countries\": \"Sri Lanka\", \"count\": 12}, {\"countries\": \"Honduras\", \"count\": 12}]}}, {\"mode\": \"vega-lite\"});\n",
              "</script>"
            ],
            "text/plain": [
              "alt.LayerChart(...)"
            ]
          },
          "metadata": {},
          "execution_count": 15
        }
      ]
    }
  ]
}