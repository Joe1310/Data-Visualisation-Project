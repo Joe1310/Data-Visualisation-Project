{
  "nbformat": 4,
  "nbformat_minor": 0,
  "metadata": {
    "colab": {
      "provenance": []
    },
    "kernelspec": {
      "name": "python3",
      "display_name": "Python 3"
    },
    "language_info": {
      "name": "python"
    }
  },
  "cells": [
    {
      "cell_type": "code",
      "execution_count": 1,
      "metadata": {
        "colab": {
          "base_uri": "https://localhost:8080/"
        },
        "id": "_ltrpRv4rJL6",
        "outputId": "be5d9fca-a9f7-419f-f03f-95c4eda868cc"
      },
      "outputs": [
        {
          "output_type": "stream",
          "name": "stdout",
          "text": [
            "Looking in indexes: https://pypi.org/simple, https://us-python.pkg.dev/colab-wheels/public/simple/\n",
            "Requirement already satisfied: altair in /usr/local/lib/python3.8/dist-packages (4.2.2)\n",
            "Requirement already satisfied: jsonschema>=3.0 in /usr/local/lib/python3.8/dist-packages (from altair) (4.3.3)\n",
            "Requirement already satisfied: toolz in /usr/local/lib/python3.8/dist-packages (from altair) (0.12.0)\n",
            "Requirement already satisfied: entrypoints in /usr/local/lib/python3.8/dist-packages (from altair) (0.4)\n",
            "Requirement already satisfied: jinja2 in /usr/local/lib/python3.8/dist-packages (from altair) (2.11.3)\n",
            "Requirement already satisfied: numpy in /usr/local/lib/python3.8/dist-packages (from altair) (1.22.4)\n",
            "Requirement already satisfied: pandas>=0.18 in /usr/local/lib/python3.8/dist-packages (from altair) (1.3.5)\n",
            "Requirement already satisfied: importlib-resources>=1.4.0 in /usr/local/lib/python3.8/dist-packages (from jsonschema>=3.0->altair) (5.12.0)\n",
            "Requirement already satisfied: pyrsistent!=0.17.0,!=0.17.1,!=0.17.2,>=0.14.0 in /usr/local/lib/python3.8/dist-packages (from jsonschema>=3.0->altair) (0.19.3)\n",
            "Requirement already satisfied: attrs>=17.4.0 in /usr/local/lib/python3.8/dist-packages (from jsonschema>=3.0->altair) (22.2.0)\n",
            "Requirement already satisfied: python-dateutil>=2.7.3 in /usr/local/lib/python3.8/dist-packages (from pandas>=0.18->altair) (2.8.2)\n",
            "Requirement already satisfied: pytz>=2017.3 in /usr/local/lib/python3.8/dist-packages (from pandas>=0.18->altair) (2022.7.1)\n",
            "Requirement already satisfied: MarkupSafe>=0.23 in /usr/local/lib/python3.8/dist-packages (from jinja2->altair) (2.0.1)\n",
            "Requirement already satisfied: zipp>=3.1.0 in /usr/local/lib/python3.8/dist-packages (from importlib-resources>=1.4.0->jsonschema>=3.0->altair) (3.14.0)\n",
            "Requirement already satisfied: six>=1.5 in /usr/local/lib/python3.8/dist-packages (from python-dateutil>=2.7.3->pandas>=0.18->altair) (1.15.0)\n"
          ]
        }
      ],
      "source": [
        "!pip install altair"
      ]
    },
    {
      "cell_type": "code",
      "source": [
        "import altair as alt\n",
        "import pandas as pd\n",
        "from vega_datasets import data"
      ],
      "metadata": {
        "id": "FEpMTc_frhIv"
      },
      "execution_count": 2,
      "outputs": []
    },
    {
      "cell_type": "code",
      "source": [
        "alt.data_transformers.enable('default')\n",
        "\n",
        "airportsData = \"airports.csv\"\n",
        "routesData = \"routes.csv\"\n",
        "\n",
        "airports = pd.read_csv(airportsData, header = 0)\n",
        "routes = pd.read_csv(routesData, header = 0)"
      ],
      "metadata": {
        "id": "lBbKyCcTroYy"
      },
      "execution_count": 4,
      "outputs": []
    },
    {
      "cell_type": "code",
      "source": [
        "busyAirports = pd.concat([routes[\"source airport\"], routes[\"destination airport\"]])\n",
        "busiestAirports = busyAirports.value_counts().rename_axis('airport').reset_index(name = 'number of flights')\n",
        "\n",
        "airportLocations = airports[[\"iata\", \"latitude\", \"longitude\"]]\n",
        "airportLocations = airportLocations[airportLocations.iata != r'\\N']\n",
        "airportLocations = airportLocations.loc[airportLocations['iata'].isin(busiestAirports['airport'])]\n",
        "\n",
        "busiestAirports = busiestAirports.merge(\n",
        "    airportLocations,\n",
        "    left_on=['airport'],\n",
        "    right_on=['iata']\n",
        ")\n",
        "\n",
        "busiestAirports = busiestAirports[busiestAirports.airport == busiestAirports.iata]\n",
        "busiestAirports = busiestAirports.iloc[:100]"
      ],
      "metadata": {
        "id": "DTlGr8QerxaN"
      },
      "execution_count": 6,
      "outputs": []
    },
    {
      "cell_type": "code",
      "source": [
        "worldMap = alt.topo_feature(data.world_110m.url, 'countries')\n",
        "\n",
        "box = pd.DataFrame({'x1': [0], 'x2': [1600], 'y1': [0], 'y2': [900]})\n",
        "\n",
        "bg = alt.Chart(box).mark_rect(fill='#aadaff', stroke='#aadaff').encode(\n",
        "    alt.X('x1', scale=alt.Scale(domain=(0, 1600)), axis = None),\n",
        "    alt.Y('y1', scale=alt.Scale(domain=(0, 900)), axis = None),\n",
        "    x2='x2',\n",
        "    y2='y2'\n",
        ")\n",
        "\n",
        "base = alt.Chart(worldMap).mark_geoshape(\n",
        "    fill='#c3ecb2',\n",
        "    stroke='#f5f8fb'\n",
        ").properties(\n",
        "    width = 1600,\n",
        "    height = 900 \n",
        ")\n",
        "\n",
        "points = alt.Chart(busiestAirports).mark_circle(\n",
        "    size=25,\n",
        "    stroke='black',\n",
        "    strokeWidth=0.5\n",
        ").encode(\n",
        "    longitude='longitude:Q',\n",
        "    latitude='latitude:Q',\n",
        "    color=alt.Color('number of flights:Q', scale=alt.Scale(scheme='yelloworangered'), title = [\"Combined\", \"Arrivals/Departures\"]),\n",
        "    tooltip=['airport', 'number of flights']\n",
        ")\n",
        "\n",
        "map = bg + base + points\n",
        "\n",
        "map.project('equirectangular').properties(title = 'A Map to show the 100 MOST used Airports').configure_title(fontSize = 25).configure_legend(titleFontSize = 18, gradientThickness = 30, gradientLength = 400, labelFontSize = 16, orient = 'bottom-left', titlePadding = 10)\n",
        "\n",
        "\n"
      ],
      "metadata": {
        "colab": {
          "base_uri": "https://localhost:8080/",
          "height": 962
        },
        "id": "eFZ2UP9prrVe",
        "outputId": "a7558e0d-6642-461a-f3a5-44a04313348f"
      },
      "execution_count": 7,
      "outputs": [
        {
          "output_type": "execute_result",
          "data": {
            "text/html": [
              "\n",
              "<div id=\"altair-viz-5e2f4852d8d54a448f9759467d06c700\"></div>\n",
              "<script type=\"text/javascript\">\n",
              "  var VEGA_DEBUG = (typeof VEGA_DEBUG == \"undefined\") ? {} : VEGA_DEBUG;\n",
              "  (function(spec, embedOpt){\n",
              "    let outputDiv = document.currentScript.previousElementSibling;\n",
              "    if (outputDiv.id !== \"altair-viz-5e2f4852d8d54a448f9759467d06c700\") {\n",
              "      outputDiv = document.getElementById(\"altair-viz-5e2f4852d8d54a448f9759467d06c700\");\n",
              "    }\n",
              "    const paths = {\n",
              "      \"vega\": \"https://cdn.jsdelivr.net/npm//vega@5?noext\",\n",
              "      \"vega-lib\": \"https://cdn.jsdelivr.net/npm//vega-lib?noext\",\n",
              "      \"vega-lite\": \"https://cdn.jsdelivr.net/npm//vega-lite@4.17.0?noext\",\n",
              "      \"vega-embed\": \"https://cdn.jsdelivr.net/npm//vega-embed@6?noext\",\n",
              "    };\n",
              "\n",
              "    function maybeLoadScript(lib, version) {\n",
              "      var key = `${lib.replace(\"-\", \"\")}_version`;\n",
              "      return (VEGA_DEBUG[key] == version) ?\n",
              "        Promise.resolve(paths[lib]) :\n",
              "        new Promise(function(resolve, reject) {\n",
              "          var s = document.createElement('script');\n",
              "          document.getElementsByTagName(\"head\")[0].appendChild(s);\n",
              "          s.async = true;\n",
              "          s.onload = () => {\n",
              "            VEGA_DEBUG[key] = version;\n",
              "            return resolve(paths[lib]);\n",
              "          };\n",
              "          s.onerror = () => reject(`Error loading script: ${paths[lib]}`);\n",
              "          s.src = paths[lib];\n",
              "        });\n",
              "    }\n",
              "\n",
              "    function showError(err) {\n",
              "      outputDiv.innerHTML = `<div class=\"error\" style=\"color:red;\">${err}</div>`;\n",
              "      throw err;\n",
              "    }\n",
              "\n",
              "    function displayChart(vegaEmbed) {\n",
              "      vegaEmbed(outputDiv, spec, embedOpt)\n",
              "        .catch(err => showError(`Javascript Error: ${err.message}<br>This usually means there's a typo in your chart specification. See the javascript console for the full traceback.`));\n",
              "    }\n",
              "\n",
              "    if(typeof define === \"function\" && define.amd) {\n",
              "      requirejs.config({paths});\n",
              "      require([\"vega-embed\"], displayChart, err => showError(`Error loading script: ${err.message}`));\n",
              "    } else {\n",
              "      maybeLoadScript(\"vega\", \"5\")\n",
              "        .then(() => maybeLoadScript(\"vega-lite\", \"4.17.0\"))\n",
              "        .then(() => maybeLoadScript(\"vega-embed\", \"6\"))\n",
              "        .catch(showError)\n",
              "        .then(() => displayChart(vegaEmbed));\n",
              "    }\n",
              "  })({\"config\": {\"view\": {\"continuousWidth\": 400, \"continuousHeight\": 300}, \"legend\": {\"gradientLength\": 400, \"gradientThickness\": 30, \"labelFontSize\": 16, \"orient\": \"bottom-left\", \"titleFontSize\": 18, \"titlePadding\": 10}, \"title\": {\"fontSize\": 25}}, \"layer\": [{\"data\": {\"name\": \"data-4e753116ba3b7eae618113ae53f690e0\"}, \"mark\": {\"type\": \"rect\", \"fill\": \"#aadaff\", \"stroke\": \"#aadaff\"}, \"encoding\": {\"x\": {\"axis\": null, \"field\": \"x1\", \"scale\": {\"domain\": [0, 1600]}, \"type\": \"quantitative\"}, \"x2\": {\"field\": \"x2\"}, \"y\": {\"axis\": null, \"field\": \"y1\", \"scale\": {\"domain\": [0, 900]}, \"type\": \"quantitative\"}, \"y2\": {\"field\": \"y2\"}}}, {\"data\": {\"url\": \"https://cdn.jsdelivr.net/npm/vega-datasets@v1.29.0/data/world-110m.json\", \"format\": {\"feature\": \"countries\", \"type\": \"topojson\"}}, \"mark\": {\"type\": \"geoshape\", \"fill\": \"#c3ecb2\", \"stroke\": \"#f5f8fb\"}, \"height\": 900, \"width\": 1600}, {\"data\": {\"name\": \"data-fdf32c320653eaf626b41ef822874276\"}, \"mark\": {\"type\": \"circle\", \"size\": 25, \"stroke\": \"black\", \"strokeWidth\": 0.5}, \"encoding\": {\"color\": {\"field\": \"number of flights\", \"scale\": {\"scheme\": \"yelloworangered\"}, \"title\": [\"Combined\", \"Arrivals/Departures\"], \"type\": \"quantitative\"}, \"latitude\": {\"field\": \"latitude\", \"type\": \"quantitative\"}, \"longitude\": {\"field\": \"longitude\", \"type\": \"quantitative\"}, \"tooltip\": [{\"field\": \"airport\", \"type\": \"nominal\"}, {\"field\": \"number of flights\", \"type\": \"quantitative\"}]}}], \"projection\": {\"type\": \"equirectangular\"}, \"title\": \"A Map to show the 100 MOST used Airports\", \"$schema\": \"https://vega.github.io/schema/vega-lite/v4.17.0.json\", \"datasets\": {\"data-4e753116ba3b7eae618113ae53f690e0\": [{\"x1\": 0, \"x2\": 1600, \"y1\": 0, \"y2\": 900}], \"data-fdf32c320653eaf626b41ef822874276\": [{\"airport\": \"ATL\", \"number of flights\": 1826, \"iata\": \"ATL\", \"latitude\": 33.6367, \"longitude\": -84.428101}, {\"airport\": \"ORD\", \"number of flights\": 1108, \"iata\": \"ORD\", \"latitude\": 41.9786, \"longitude\": -87.9048}, {\"airport\": \"PEK\", \"number of flights\": 1069, \"iata\": \"PEK\", \"latitude\": 40.08010101, \"longitude\": 116.5849991}, {\"airport\": \"LHR\", \"number of flights\": 1051, \"iata\": \"LHR\", \"latitude\": 51.4706, \"longitude\": -0.461941}, {\"airport\": \"CDG\", \"number of flights\": 1041, \"iata\": \"CDG\", \"latitude\": 49.012798, \"longitude\": 2.55}, {\"airport\": \"LAX\", \"number of flights\": 990, \"iata\": \"LAX\", \"latitude\": 33.94250107, \"longitude\": -118.4079971}, {\"airport\": \"FRA\", \"number of flights\": 990, \"iata\": \"FRA\", \"latitude\": 50.033333, \"longitude\": 8.570556}, {\"airport\": \"DFW\", \"number of flights\": 936, \"iata\": \"DFW\", \"latitude\": 32.896801, \"longitude\": -97.038002}, {\"airport\": \"JFK\", \"number of flights\": 911, \"iata\": \"JFK\", \"latitude\": 40.63980103, \"longitude\": -73.77890015}, {\"airport\": \"AMS\", \"number of flights\": 903, \"iata\": \"AMS\", \"latitude\": 52.308601, \"longitude\": 4.76389}, {\"airport\": \"PVG\", \"number of flights\": 825, \"iata\": \"PVG\", \"latitude\": 31.14340019, \"longitude\": 121.8050003}, {\"airport\": \"SIN\", \"number of flights\": 820, \"iata\": \"SIN\", \"latitude\": 1.35019, \"longitude\": 103.994003}, {\"airport\": \"BCN\", \"number of flights\": 783, \"iata\": \"BCN\", \"latitude\": 41.2971, \"longitude\": 2.07846}, {\"airport\": \"ICN\", \"number of flights\": 740, \"iata\": \"ICN\", \"latitude\": 37.46910095, \"longitude\": 126.4509964}, {\"airport\": \"DEN\", \"number of flights\": 735, \"iata\": \"DEN\", \"latitude\": 39.86169815, \"longitude\": -104.6729965}, {\"airport\": \"MIA\", \"number of flights\": 734, \"iata\": \"MIA\", \"latitude\": 25.79319954, \"longitude\": -80.29060364}, {\"airport\": \"MUC\", \"number of flights\": 728, \"iata\": \"MUC\", \"latitude\": 48.353802, \"longitude\": 11.7861}, {\"airport\": \"IST\", \"number of flights\": 719, \"iata\": \"IST\", \"latitude\": 41.275278, \"longitude\": 28.751944}, {\"airport\": \"HKG\", \"number of flights\": 710, \"iata\": \"HKG\", \"latitude\": 22.308901, \"longitude\": 113.915001}, {\"airport\": \"DXB\", \"number of flights\": 710, \"iata\": \"DXB\", \"latitude\": 25.25279999, \"longitude\": 55.36439896}, {\"airport\": \"LGW\", \"number of flights\": 708, \"iata\": \"LGW\", \"latitude\": 51.148102, \"longitude\": -0.190278}, {\"airport\": \"CAN\", \"number of flights\": 674, \"iata\": \"CAN\", \"latitude\": 23.39240074, \"longitude\": 113.2990036}, {\"airport\": \"FCO\", \"number of flights\": 662, \"iata\": \"FCO\", \"latitude\": 41.8002778, \"longitude\": 12.2388889}, {\"airport\": \"MAD\", \"number of flights\": 661, \"iata\": \"MAD\", \"latitude\": 40.471926, \"longitude\": -3.56264}, {\"airport\": \"BKK\", \"number of flights\": 656, \"iata\": \"BKK\", \"latitude\": 13.68109989, \"longitude\": 100.7470016}, {\"airport\": \"DME\", \"number of flights\": 649, \"iata\": \"DME\", \"latitude\": 55.40879822, \"longitude\": 37.90629959}, {\"airport\": \"CTU\", \"number of flights\": 647, \"iata\": \"CTU\", \"latitude\": 30.57850075, \"longitude\": 103.9469986}, {\"airport\": \"YYZ\", \"number of flights\": 636, \"iata\": \"YYZ\", \"latitude\": 43.67720032, \"longitude\": -79.63059998}, {\"airport\": \"BRU\", \"number of flights\": 631, \"iata\": \"BRU\", \"latitude\": 50.90140152, \"longitude\": 4.48443985}, {\"airport\": \"MAN\", \"number of flights\": 627, \"iata\": \"MAN\", \"latitude\": 53.35369873, \"longitude\": -2.274950027}, {\"airport\": \"VIE\", \"number of flights\": 616, \"iata\": \"VIE\", \"latitude\": 48.11029816, \"longitude\": 16.56970024}, {\"airport\": \"CLT\", \"number of flights\": 600, \"iata\": \"CLT\", \"latitude\": 35.2140007, \"longitude\": -80.94309998}, {\"airport\": \"PHL\", \"number of flights\": 576, \"iata\": \"PHL\", \"latitude\": 39.87189865, \"longitude\": -75.2410965}, {\"airport\": \"NRT\", \"number of flights\": 575, \"iata\": \"NRT\", \"latitude\": 35.76470184, \"longitude\": 140.3860016}, {\"airport\": \"DUS\", \"number of flights\": 570, \"iata\": \"DUS\", \"latitude\": 51.289501, \"longitude\": 6.76678}, {\"airport\": \"XIY\", \"number of flights\": 563, \"iata\": \"XIY\", \"latitude\": 34.447102, \"longitude\": 108.751999}, {\"airport\": \"PMI\", \"number of flights\": 548, \"iata\": \"PMI\", \"latitude\": 39.55170059, \"longitude\": 2.738810062}, {\"airport\": \"KMG\", \"number of flights\": 545, \"iata\": \"KMG\", \"latitude\": 25.1019444, \"longitude\": 102.9291667}, {\"airport\": \"CKG\", \"number of flights\": 540, \"iata\": \"CKG\", \"latitude\": 29.71920013, \"longitude\": 106.6419983}, {\"airport\": \"TPE\", \"number of flights\": 527, \"iata\": \"TPE\", \"latitude\": 25.0777, \"longitude\": 121.233002}, {\"airport\": \"DEL\", \"number of flights\": 527, \"iata\": \"DEL\", \"latitude\": 28.5665, \"longitude\": 77.103104}, {\"airport\": \"KUL\", \"number of flights\": 514, \"iata\": \"KUL\", \"latitude\": 2.745579958, \"longitude\": 101.7099991}, {\"airport\": \"PHX\", \"number of flights\": 508, \"iata\": \"PHX\", \"latitude\": 33.43429947, \"longitude\": -112.012001}, {\"airport\": \"HGH\", \"number of flights\": 506, \"iata\": \"HGH\", \"latitude\": 30.22949982, \"longitude\": 120.4339981}, {\"airport\": \"EWR\", \"number of flights\": 505, \"iata\": \"EWR\", \"latitude\": 40.69250107, \"longitude\": -74.16870117}, {\"airport\": \"SFO\", \"number of flights\": 499, \"iata\": \"SFO\", \"latitude\": 37.61899948, \"longitude\": -122.375}, {\"airport\": \"LAS\", \"number of flights\": 498, \"iata\": \"LAS\", \"latitude\": 36.08010101, \"longitude\": -115.1520004}, {\"airport\": \"ZRH\", \"number of flights\": 494, \"iata\": \"ZRH\", \"latitude\": 47.464699, \"longitude\": 8.54917}, {\"airport\": \"MEX\", \"number of flights\": 485, \"iata\": \"MEX\", \"latitude\": 19.4363, \"longitude\": -99.072098}, {\"airport\": \"IAH\", \"number of flights\": 485, \"iata\": \"IAH\", \"latitude\": 29.9843998, \"longitude\": -95.34140015}, {\"airport\": \"AUH\", \"number of flights\": 477, \"iata\": \"AUH\", \"latitude\": 24.43300056, \"longitude\": 54.65110016}, {\"airport\": \"MCO\", \"number of flights\": 475, \"iata\": \"MCO\", \"latitude\": 28.42939949, \"longitude\": -81.30899811}, {\"airport\": \"SZX\", \"number of flights\": 467, \"iata\": \"SZX\", \"latitude\": 22.63929939, \"longitude\": 113.810997}, {\"airport\": \"XMN\", \"number of flights\": 466, \"iata\": \"XMN\", \"latitude\": 24.54400063, \"longitude\": 118.1279984}, {\"airport\": \"CPH\", \"number of flights\": 457, \"iata\": \"CPH\", \"latitude\": 55.61790085, \"longitude\": 12.65600014}, {\"airport\": \"BOM\", \"number of flights\": 452, \"iata\": \"BOM\", \"latitude\": 19.08869934, \"longitude\": 72.86789703}, {\"airport\": \"ARN\", \"number of flights\": 439, \"iata\": \"ARN\", \"latitude\": 59.65190125, \"longitude\": 17.91860008}, {\"airport\": \"LIS\", \"number of flights\": 435, \"iata\": \"LIS\", \"latitude\": 38.7813, \"longitude\": -9.13592}, {\"airport\": \"DTW\", \"number of flights\": 433, \"iata\": \"DTW\", \"latitude\": 42.21239853, \"longitude\": -83.35340118}, {\"airport\": \"MSP\", \"number of flights\": 430, \"iata\": \"MSP\", \"latitude\": 44.882, \"longitude\": -93.221802}, {\"airport\": \"BOS\", \"number of flights\": 424, \"iata\": \"BOS\", \"latitude\": 42.36429977, \"longitude\": -71.00520325}, {\"airport\": \"TXL\", \"number of flights\": 418, \"iata\": \"TXL\", \"latitude\": 52.5597, \"longitude\": 13.2877}, {\"airport\": \"DUB\", \"number of flights\": 414, \"iata\": \"DUB\", \"latitude\": 53.421299, \"longitude\": -6.27007}, {\"airport\": \"SHA\", \"number of flights\": 411, \"iata\": \"SHA\", \"latitude\": 31.19790077, \"longitude\": 121.3359985}, {\"airport\": \"SYD\", \"number of flights\": 410, \"iata\": \"SYD\", \"latitude\": -33.94609833, \"longitude\": 151.177002}, {\"airport\": \"AGP\", \"number of flights\": 410, \"iata\": \"AGP\", \"latitude\": 36.67490005, \"longitude\": -4.499110222}, {\"airport\": \"ORY\", \"number of flights\": 404, \"iata\": \"ORY\", \"latitude\": 48.7233333, \"longitude\": 2.3794444}, {\"airport\": \"SEA\", \"number of flights\": 403, \"iata\": \"SEA\", \"latitude\": 47.449001, \"longitude\": -122.308998}, {\"airport\": \"ATH\", \"number of flights\": 403, \"iata\": \"ATH\", \"latitude\": 37.93640137, \"longitude\": 23.94449997}, {\"airport\": \"SVO\", \"number of flights\": 397, \"iata\": \"SVO\", \"latitude\": 55.972599, \"longitude\": 37.4146}, {\"airport\": \"DCA\", \"number of flights\": 388, \"iata\": \"DCA\", \"latitude\": 38.8521, \"longitude\": -77.037697}, {\"airport\": \"GRU\", \"number of flights\": 387, \"iata\": \"GRU\", \"latitude\": -23.43555641, \"longitude\": -46.47305679}, {\"airport\": \"IAD\", \"number of flights\": 386, \"iata\": \"IAD\", \"latitude\": 38.94449997, \"longitude\": -77.45580292}, {\"airport\": \"MNL\", \"number of flights\": 386, \"iata\": \"MNL\", \"latitude\": 14.5086, \"longitude\": 121.019997}, {\"airport\": \"MXP\", \"number of flights\": 386, \"iata\": \"MXP\", \"latitude\": 45.6306, \"longitude\": 8.72811}, {\"airport\": \"CSX\", \"number of flights\": 377, \"iata\": \"CSX\", \"latitude\": 28.18919945, \"longitude\": 113.2200012}, {\"airport\": \"DOH\", \"number of flights\": 377, \"iata\": \"DOH\", \"latitude\": 25.273056, \"longitude\": 51.608056}, {\"airport\": \"JED\", \"number of flights\": 377, \"iata\": \"JED\", \"latitude\": 21.6796, \"longitude\": 39.156502}, {\"airport\": \"TAO\", \"number of flights\": 376, \"iata\": \"TAO\", \"latitude\": 36.26610184, \"longitude\": 120.3740005}, {\"airport\": \"WUH\", \"number of flights\": 374, \"iata\": \"WUH\", \"latitude\": 30.7838, \"longitude\": 114.208}, {\"airport\": \"FLL\", \"number of flights\": 374, \"iata\": \"FLL\", \"latitude\": 26.072599, \"longitude\": -80.152702}, {\"airport\": \"YUL\", \"number of flights\": 371, \"iata\": \"YUL\", \"latitude\": 45.47060013, \"longitude\": -73.74079895}, {\"airport\": \"LED\", \"number of flights\": 368, \"iata\": \"LED\", \"latitude\": 59.8003006, \"longitude\": 30.26250076}, {\"airport\": \"CGK\", \"number of flights\": 367, \"iata\": \"CGK\", \"latitude\": -6.12556982, \"longitude\": 106.6559982}, {\"airport\": \"OSL\", \"number of flights\": 363, \"iata\": \"OSL\", \"latitude\": 60.121, \"longitude\": 11.0502}, {\"airport\": \"PRG\", \"number of flights\": 361, \"iata\": \"PRG\", \"latitude\": 50.1008, \"longitude\": 14.26}, {\"airport\": \"CGO\", \"number of flights\": 348, \"iata\": \"CGO\", \"latitude\": 34.5196991, \"longitude\": 113.8410034}, {\"airport\": \"STN\", \"number of flights\": 343, \"iata\": \"STN\", \"latitude\": 51.88499832, \"longitude\": 0.234999999}, {\"airport\": \"NKG\", \"number of flights\": 330, \"iata\": \"NKG\", \"latitude\": 31.74200058, \"longitude\": 118.8619995}, {\"airport\": \"GVA\", \"number of flights\": 329, \"iata\": \"GVA\", \"latitude\": 46.23809814, \"longitude\": 6.108950138}, {\"airport\": \"HAM\", \"number of flights\": 321, \"iata\": \"HAM\", \"latitude\": 53.63040161, \"longitude\": 9.988229752}, {\"airport\": \"JNB\", \"number of flights\": 321, \"iata\": \"JNB\", \"latitude\": -26.1392, \"longitude\": 28.246}, {\"airport\": \"HEL\", \"number of flights\": 320, \"iata\": \"HEL\", \"latitude\": 60.31719971, \"longitude\": 24.9633007}, {\"airport\": \"TFS\", \"number of flights\": 318, \"iata\": \"TFS\", \"latitude\": 28.04450035, \"longitude\": -16.57250023}, {\"airport\": \"LGA\", \"number of flights\": 316, \"iata\": \"LGA\", \"latitude\": 40.77719879, \"longitude\": -73.87259674}, {\"airport\": \"YVR\", \"number of flights\": 315, \"iata\": \"YVR\", \"latitude\": 49.19390106, \"longitude\": -123.1839981}, {\"airport\": \"HND\", \"number of flights\": 315, \"iata\": \"HND\", \"latitude\": 35.552299, \"longitude\": 139.779999}, {\"airport\": \"ALC\", \"number of flights\": 314, \"iata\": \"ALC\", \"latitude\": 38.28219986, \"longitude\": -0.558156013}, {\"airport\": \"CUN\", \"number of flights\": 311, \"iata\": \"CUN\", \"latitude\": 21.03650093, \"longitude\": -86.87709808}, {\"airport\": \"LPA\", \"number of flights\": 308, \"iata\": \"LPA\", \"latitude\": 27.93190002, \"longitude\": -15.38659954}]}}, {\"mode\": \"vega-lite\"});\n",
              "</script>"
            ],
            "text/plain": [
              "alt.LayerChart(...)"
            ]
          },
          "metadata": {},
          "execution_count": 7
        }
      ]
    }
  ]
}